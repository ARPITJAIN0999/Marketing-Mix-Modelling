{
  "nbformat": 4,
  "nbformat_minor": 0,
  "metadata": {
    "colab": {
      "provenance": [],
      "authorship_tag": "ABX9TyMaHaRweGEWDn129ViRiZlo",
      "include_colab_link": true
    },
    "kernelspec": {
      "name": "python3",
      "display_name": "Python 3"
    },
    "language_info": {
      "name": "python"
    }
  },
  "cells": [
    {
      "cell_type": "markdown",
      "metadata": {
        "id": "view-in-github",
        "colab_type": "text"
      },
      "source": [
        "<a href=\"https://colab.research.google.com/github/ARPITJAIN0999/Marketing-Mix-Modelling/blob/main/Marketing_Mix_Modelling_CPG.ipynb\" target=\"_parent\"><img src=\"https://colab.research.google.com/assets/colab-badge.svg\" alt=\"Open In Colab\"/></a>"
      ]
    },
    {
      "cell_type": "markdown",
      "source": [
        "##**Marketing Mix Modelling**\n",
        "\n",
        "### The Data : \n",
        "\n",
        "We're using a data of an established client which contains the sales values with the money spent on 3 *advertising* channels :  \n",
        "  \n",
        "\n",
        "*   **TV**\n",
        "*   **Radio** and\n",
        "*   **Web banners**\n",
        "\n",
        "Each week, you decide to spend some amount of money on each channel, or not. Additionally, you get to observe the number of sales each week. The data is collected for 200 weeks"
      ],
      "metadata": {
        "id": "1WxEWoCvsjIm"
      }
    },
    {
      "cell_type": "code",
      "execution_count": null,
      "metadata": {
        "id": "QnN9tLytsdEk"
      },
      "outputs": [],
      "source": []
    }
  ]
}